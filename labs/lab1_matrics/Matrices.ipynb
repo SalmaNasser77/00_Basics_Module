{
 "cells": [
  {
   "cell_type": "markdown",
   "id": "95c81de4-1d5c-4843-9522-5def1eddd21b",
   "metadata": {},
   "source": [
    "<h2>Importing numpy library that we will be using to manipulate matrices</h2>\n",
    "<p>NumPy is widely used for numerical computations, providing fast and efficient operations on multi-dimensional arrays and matrices. It is essential for data preprocessing, statistical analysis, and mathematical modeling in machine learning, data science, and scientific computing.</p>"
   ]
  },
  {
   "cell_type": "code",
   "execution_count": 2,
   "id": "feb62d63-108d-4ee4-be95-822eededa1ff",
   "metadata": {},
   "outputs": [],
   "source": [
    "import numpy as np"
   ]
  },
  {
   "cell_type": "markdown",
   "id": "f4386200-5a91-4e96-9b7f-3a45b65928ed",
   "metadata": {},
   "source": [
    "<h2>Defining vectors and operations on them (summition and multiplying by a scalar) </h2>"
   ]
  },
  {
   "cell_type": "code",
   "execution_count": 3,
   "id": "4e87e7c5-e1b5-4c77-a89f-9bd027eafcff",
   "metadata": {},
   "outputs": [
    {
     "data": {
      "text/plain": [
       "array([5, 4, 3, 2])"
      ]
     },
     "execution_count": 3,
     "metadata": {},
     "output_type": "execute_result"
    }
   ],
   "source": [
    "# when dealing with only vectors it's okay to define a vector like this\n",
    "np.array([5, 4, 3, 2])"
   ]
  },
  {
   "cell_type": "code",
   "execution_count": 4,
   "id": "93350ec4-bce5-48d7-b120-ab28820898d5",
   "metadata": {},
   "outputs": [
    {
     "data": {
      "text/plain": [
       "(4,)"
      ]
     },
     "execution_count": 4,
     "metadata": {},
     "output_type": "execute_result"
    }
   ],
   "source": [
    "# When defining a vector like in the pervious line it can make problems in eqautions \n",
    "# as the shape is not well defined (4, 1)\n",
    "np.array([5, 4, 3, 2]).shape"
   ]
  },
  {
   "cell_type": "code",
   "execution_count": 5,
   "id": "0d9b41c6-e693-4401-b6a5-29cafeaef647",
   "metadata": {},
   "outputs": [
    {
     "data": {
      "text/plain": [
       "(1, 4)"
      ]
     },
     "execution_count": 5,
     "metadata": {},
     "output_type": "execute_result"
    }
   ],
   "source": [
    "# you can change the shape of a vector like this\n",
    "# Notice you need to assgin the result of the reshape to the vector to be saved in place\n",
    "V = np.array([5,4,3,2])\n",
    "V = V.reshape((1,4))\n",
    "V.shape"
   ]
  },
  {
   "cell_type": "code",
   "execution_count": 6,
   "id": "91251f9a-a3cc-44af-9ec0-abcfe9e62cef",
   "metadata": {},
   "outputs": [
    {
     "data": {
      "text/plain": [
       "array([[25, 20, 15, 10]])"
      ]
     },
     "execution_count": 6,
     "metadata": {},
     "output_type": "execute_result"
    }
   ],
   "source": [
    "# muliplying a vector by a scaler \"number\"\n",
    "V * 5\n",
    "\n",
    "# notice it multiplies each element by 5"
   ]
  },
  {
   "cell_type": "code",
   "execution_count": 7,
   "id": "40cea20e-b3a9-4065-a627-f1dd45508be3",
   "metadata": {},
   "outputs": [
    {
     "data": {
      "text/plain": [
       "array([ 27,  82, 115,  92])"
      ]
     },
     "execution_count": 7,
     "metadata": {},
     "output_type": "execute_result"
    }
   ],
   "source": [
    "# adding 2 vectors together \"Element wise\"\n",
    "V1 = np.array([10, 77, 25, 15])\n",
    "V2 = np.array([17, 5, 90, 77])\n",
    "\n",
    "V1 + V2"
   ]
  },
  {
   "cell_type": "code",
   "execution_count": 8,
   "id": "71a300df-19e9-4653-9882-4351b3eab41c",
   "metadata": {},
   "outputs": [
    {
     "ename": "ValueError",
     "evalue": "operands could not be broadcast together with shapes (8,) (5,) ",
     "output_type": "error",
     "traceback": [
      "\u001b[0;31m---------------------------------------------------------------------------\u001b[0m",
      "\u001b[0;31mValueError\u001b[0m                                Traceback (most recent call last)",
      "Cell \u001b[0;32mIn[8], line 5\u001b[0m\n\u001b[1;32m      2\u001b[0m V1 \u001b[38;5;241m=\u001b[39m np\u001b[38;5;241m.\u001b[39marray([\u001b[38;5;241m10\u001b[39m, \u001b[38;5;241m77\u001b[39m, \u001b[38;5;241m25\u001b[39m, \u001b[38;5;241m15\u001b[39m, \u001b[38;5;241m33\u001b[39m, \u001b[38;5;241m60\u001b[39m, \u001b[38;5;241m11\u001b[39m, \u001b[38;5;241m5\u001b[39m])\n\u001b[1;32m      3\u001b[0m V2 \u001b[38;5;241m=\u001b[39m np\u001b[38;5;241m.\u001b[39marray([\u001b[38;5;241m17\u001b[39m, \u001b[38;5;241m5\u001b[39m, \u001b[38;5;241m90\u001b[39m, \u001b[38;5;241m77\u001b[39m, \u001b[38;5;241m67\u001b[39m])\n\u001b[0;32m----> 5\u001b[0m \u001b[43mV1\u001b[49m\u001b[43m \u001b[49m\u001b[38;5;241;43m+\u001b[39;49m\u001b[43m \u001b[49m\u001b[43mV2\u001b[49m\n\u001b[1;32m      7\u001b[0m \u001b[38;5;66;03m# if gives an error if the dimensions are differant\u001b[39;00m\n",
      "\u001b[0;31mValueError\u001b[0m: operands could not be broadcast together with shapes (8,) (5,) "
     ]
    }
   ],
   "source": [
    "# Trying to add 2 vectors that doesn't have the same dimensions\n",
    "V1 = np.array([10, 77, 25, 15, 33, 60, 11, 5])\n",
    "V2 = np.array([17, 5, 90, 77, 67])\n",
    "\n",
    "V1 + V2\n",
    "\n",
    "# if gives an error if the dimensions are differant"
   ]
  },
  {
   "cell_type": "markdown",
   "id": "b25e0263-3bdf-4578-94b6-aa2d22716e80",
   "metadata": {},
   "source": [
    "<h2>Different ways to intialize a matrix with certain dimensions</h2>"
   ]
  },
  {
   "cell_type": "code",
   "execution_count": 9,
   "id": "0d6df053-88e0-40c3-a4af-413ef613318a",
   "metadata": {},
   "outputs": [
    {
     "data": {
      "text/plain": [
       "array([[0, 0, 0],\n",
       "       [0, 0, 0],\n",
       "       [0, 0, 0]])"
      ]
     },
     "execution_count": 9,
     "metadata": {},
     "output_type": "execute_result"
    }
   ],
   "source": [
    "# to specify a 3x3 matrix filled with zeros and of type int\n",
    "np.zeros((3, 3), dtype=int)"
   ]
  },
  {
   "cell_type": "code",
   "execution_count": 10,
   "id": "19f0197e-a528-496b-8ed1-9e0fcb177412",
   "metadata": {},
   "outputs": [
    {
     "data": {
      "text/plain": [
       "array([[7, 7, 7],\n",
       "       [7, 7, 7],\n",
       "       [7, 7, 7]])"
      ]
     },
     "execution_count": 10,
     "metadata": {},
     "output_type": "execute_result"
    }
   ],
   "source": [
    "# to specify a 3x3 matrix but filled with a custom value \"7\"\n",
    "np.full((3, 3), 7, dtype=int)"
   ]
  },
  {
   "cell_type": "code",
   "execution_count": 11,
   "id": "f5d1e07d-7cc2-4256-8d28-5ba00ac1ed72",
   "metadata": {},
   "outputs": [
    {
     "data": {
      "text/plain": [
       "array([[1., 1., 1.],\n",
       "       [1., 1., 1.],\n",
       "       [1., 1., 1.]])"
      ]
     },
     "execution_count": 11,
     "metadata": {},
     "output_type": "execute_result"
    }
   ],
   "source": [
    "# Creating a 3x3 matrix of only ones\n",
    "np.ones((3,3))"
   ]
  },
  {
   "cell_type": "code",
   "execution_count": 12,
   "id": "c0197a42-d3da-4349-9ce1-0f7371ca0896",
   "metadata": {},
   "outputs": [
    {
     "data": {
      "text/plain": [
       "array([[1., 0., 0., 0.],\n",
       "       [0., 1., 0., 0.],\n",
       "       [0., 0., 1., 0.],\n",
       "       [0., 0., 0., 1.]])"
      ]
     },
     "execution_count": 12,
     "metadata": {},
     "output_type": "execute_result"
    }
   ],
   "source": [
    "# defining a 4x4 identity matrix\n",
    "np.identity(4)"
   ]
  },
  {
   "cell_type": "code",
   "execution_count": 13,
   "id": "53e01127-35ee-4c24-b76f-350cfd35eb1d",
   "metadata": {},
   "outputs": [
    {
     "data": {
      "text/plain": [
       "array([[8, 8, 4],\n",
       "       [0, 8, 4],\n",
       "       [8, 1, 0]])"
      ]
     },
     "execution_count": 13,
     "metadata": {},
     "output_type": "execute_result"
    }
   ],
   "source": [
    "# make a matrix with random numbers from 0 to 10 with dimensions 3x3\n",
    "np.random.randint(0, 10, size=(3, 3))"
   ]
  },
  {
   "cell_type": "markdown",
   "id": "70510edb-454e-4ed4-a35a-c5970ca75610",
   "metadata": {},
   "source": [
    "<h2>Matrix addition is the same as vector addition</h2>"
   ]
  },
  {
   "cell_type": "code",
   "execution_count": 14,
   "id": "23dca7b4-75e2-43b4-aa3a-fd9ff0ccd1b6",
   "metadata": {},
   "outputs": [
    {
     "data": {
      "text/plain": [
       "array([[17, 17, 17],\n",
       "       [17, 17, 17],\n",
       "       [17, 17, 17]])"
      ]
     },
     "execution_count": 14,
     "metadata": {},
     "output_type": "execute_result"
    }
   ],
   "source": [
    "# Element wise addation, so the dimensions of the two matrices must be exact\n",
    "matrix1 = np.full((3, 3), 7)\n",
    "matrix2 = np.full((3, 3), 10)\n",
    "\n",
    "matrix1 + matrix2"
   ]
  },
  {
   "cell_type": "markdown",
   "id": "615c5467-0035-44ef-b08b-4ff2e8e135f2",
   "metadata": {},
   "source": [
    "<h1>Matrix multiplication</h1>"
   ]
  },
  {
   "cell_type": "code",
   "execution_count": 15,
   "id": "cab07566-b18c-43db-b8d3-cc850794e65e",
   "metadata": {},
   "outputs": [
    {
     "data": {
      "text/plain": [
       "array([[70, 70, 70],\n",
       "       [70, 70, 70],\n",
       "       [70, 70, 70]])"
      ]
     },
     "execution_count": 15,
     "metadata": {},
     "output_type": "execute_result"
    }
   ],
   "source": [
    "# Element wise multiplication \"doesn't have meaning in math\"\n",
    "# not matching exact dimensions here will give an error like the one in the vector as it's element wise\n",
    "matrix1 = np.full((3, 3), 7)\n",
    "matrix2 = np.full((3, 3), 10)\n",
    "\n",
    "matrix1*matrix2"
   ]
  },
  {
   "cell_type": "code",
   "execution_count": 16,
   "id": "809495df-11e8-403b-baa8-3e79141ed672",
   "metadata": {},
   "outputs": [
    {
     "data": {
      "text/plain": [
       "array([[210, 210, 210],\n",
       "       [210, 210, 210],\n",
       "       [210, 210, 210]])"
      ]
     },
     "execution_count": 16,
     "metadata": {},
     "output_type": "execute_result"
    }
   ],
   "source": [
    "# Normal row column multiplication with dot method\n",
    "matrix1 = np.full((3, 3), 7)\n",
    "matrix2 = np.full((3, 3), 10)\n",
    "\n",
    "matrix1.dot(matrix2)"
   ]
  },
  {
   "cell_type": "code",
   "execution_count": 17,
   "id": "2687176c-4d08-4037-853a-a8e34d926c91",
   "metadata": {},
   "outputs": [
    {
     "data": {
      "text/plain": [
       "array([[210, 210, 210, 210, 210, 210, 210],\n",
       "       [210, 210, 210, 210, 210, 210, 210],\n",
       "       [210, 210, 210, 210, 210, 210, 210],\n",
       "       [210, 210, 210, 210, 210, 210, 210],\n",
       "       [210, 210, 210, 210, 210, 210, 210]])"
      ]
     },
     "execution_count": 17,
     "metadata": {},
     "output_type": "execute_result"
    }
   ],
   "source": [
    "# notice if M1 and M2 is (5,3) and (3, 7) we can still multiply them\n",
    "# the most importatnt thing it number of columns of the first matrix is equal to the number of rows in the second\n",
    "matrix1 = np.full((5, 3), 7)\n",
    "matrix2 = np.full((3, 7), 10)\n",
    "\n",
    "matrix1.dot(matrix2)"
   ]
  },
  {
   "cell_type": "code",
   "execution_count": 18,
   "id": "98f65607-6659-44d6-93b5-ff7e3ccd54d3",
   "metadata": {},
   "outputs": [
    {
     "ename": "ValueError",
     "evalue": "shapes (3,7) and (5,3) not aligned: 7 (dim 1) != 5 (dim 0)",
     "output_type": "error",
     "traceback": [
      "\u001b[0;31m---------------------------------------------------------------------------\u001b[0m",
      "\u001b[0;31mValueError\u001b[0m                                Traceback (most recent call last)",
      "Cell \u001b[0;32mIn[18], line 6\u001b[0m\n\u001b[1;32m      3\u001b[0m matrix1 \u001b[38;5;241m=\u001b[39m np\u001b[38;5;241m.\u001b[39mfull((\u001b[38;5;241m5\u001b[39m, \u001b[38;5;241m3\u001b[39m), \u001b[38;5;241m7\u001b[39m)\n\u001b[1;32m      4\u001b[0m matrix2 \u001b[38;5;241m=\u001b[39m np\u001b[38;5;241m.\u001b[39mfull((\u001b[38;5;241m3\u001b[39m, \u001b[38;5;241m7\u001b[39m), \u001b[38;5;241m10\u001b[39m)\n\u001b[0;32m----> 6\u001b[0m \u001b[43mmatrix2\u001b[49m\u001b[38;5;241;43m.\u001b[39;49m\u001b[43mdot\u001b[49m\u001b[43m(\u001b[49m\u001b[43mmatrix1\u001b[49m\u001b[43m)\u001b[49m\n",
      "\u001b[0;31mValueError\u001b[0m: shapes (3,7) and (5,3) not aligned: 7 (dim 1) != 5 (dim 0)"
     ]
    }
   ],
   "source": [
    "# notice that matrix1.dot(matrix2) isn't the same as matrix2.dot(matrix1)\n",
    "# here dimensions doesn't match (3, 7) . (5, 3) --> order matter\n",
    "matrix1 = np.full((5, 3), 7)\n",
    "matrix2 = np.full((3, 7), 10)\n",
    "\n",
    "matrix2.dot(matrix1)"
   ]
  },
  {
   "cell_type": "markdown",
   "id": "e3bed3a3-a598-4b35-9de7-d208c382f53b",
   "metadata": {},
   "source": [
    "<h2>Multiplication with the identity matrix</h2>"
   ]
  },
  {
   "cell_type": "code",
   "execution_count": 19,
   "id": "8bf7adbf-3d12-4328-90ac-0349be5d0459",
   "metadata": {},
   "outputs": [
    {
     "name": "stdout",
     "output_type": "stream",
     "text": [
      "Before multiplication\n",
      "[[9 4 0]\n",
      " [2 2 9]\n",
      " [7 1 0]]\n",
      "After multiplication\n",
      "[[9 4 0]\n",
      " [2 2 9]\n",
      " [7 1 0]]\n",
      "Different order\n",
      "[[9 4 0]\n",
      " [2 2 9]\n",
      " [7 1 0]]\n"
     ]
    }
   ],
   "source": [
    "# multiplying with an identity matrix\n",
    "# notice both the matrix and the I must be of the same square dimensions \n",
    "matrix1 = np.identity(3, dtype=int)\n",
    "matrix2 = np.random.randint(0, 10, size=(3, 3))\n",
    "\n",
    "print(\"Before multiplication\")\n",
    "print(matrix2)\n",
    "\n",
    "print(\"After multiplication\")\n",
    "print(matrix1.dot(matrix2))\n",
    "\n",
    "#notice that it doesn't matter if we did matrix1 x matrix2 or matrix2 x matrix1\n",
    "print(\"Different order\")\n",
    "print(matrix2.dot(matrix1))"
   ]
  },
  {
   "cell_type": "markdown",
   "id": "ffcdbe15-6d88-43df-9514-6a43c27d645d",
   "metadata": {},
   "source": [
    "<h2>Associativity</h2>"
   ]
  },
  {
   "cell_type": "code",
   "execution_count": null,
   "id": "03df8e9a-30fd-49fd-9548-645d4aed75c3",
   "metadata": {},
   "outputs": [],
   "source": []
  },
  {
   "cell_type": "code",
   "execution_count": null,
   "id": "54e50a79-46b4-40be-8e78-63212bbbe9f0",
   "metadata": {},
   "outputs": [],
   "source": []
  }
 ],
 "metadata": {
  "kernelspec": {
   "display_name": "Python 3 (ipykernel)",
   "language": "python",
   "name": "python3"
  },
  "language_info": {
   "codemirror_mode": {
    "name": "ipython",
    "version": 3
   },
   "file_extension": ".py",
   "mimetype": "text/x-python",
   "name": "python",
   "nbconvert_exporter": "python",
   "pygments_lexer": "ipython3",
   "version": "3.8.10"
  }
 },
 "nbformat": 4,
 "nbformat_minor": 5
}
